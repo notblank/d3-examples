{
 "cells": [
  {
   "cell_type": "code",
   "execution_count": 122,
   "metadata": {},
   "outputs": [],
   "source": [
    "import pandas as pd\n",
    "import json"
   ]
  },
  {
   "cell_type": "code",
   "execution_count": 16,
   "metadata": {},
   "outputs": [],
   "source": [
    "NobelLaureates = pd.read_excel('../../Curso-Stat/tablas/Tables_CS109/NobelLaureates.xlsx')\n",
    "NLsimple = NobelLaureates[['Country', 'Geographic Area']]"
   ]
  },
  {
   "cell_type": "code",
   "execution_count": 120,
   "metadata": {},
   "outputs": [
    {
     "data": {
      "text/html": [
       "<div>\n",
       "<style scoped>\n",
       "    .dataframe tbody tr th:only-of-type {\n",
       "        vertical-align: middle;\n",
       "    }\n",
       "\n",
       "    .dataframe tbody tr th {\n",
       "        vertical-align: top;\n",
       "    }\n",
       "\n",
       "    .dataframe thead th {\n",
       "        text-align: right;\n",
       "    }\n",
       "</style>\n",
       "<table border=\"1\" class=\"dataframe\">\n",
       "  <thead>\n",
       "    <tr style=\"text-align: right;\">\n",
       "      <th></th>\n",
       "      <th>name</th>\n",
       "      <th>Geographic Area</th>\n",
       "      <th>num</th>\n",
       "    </tr>\n",
       "  </thead>\n",
       "  <tbody>\n",
       "    <tr>\n",
       "      <th>0</th>\n",
       "      <td>Argentina</td>\n",
       "      <td>South America</td>\n",
       "      <td>5</td>\n",
       "    </tr>\n",
       "    <tr>\n",
       "      <th>1</th>\n",
       "      <td>Australia</td>\n",
       "      <td>Oceania</td>\n",
       "      <td>13</td>\n",
       "    </tr>\n",
       "    <tr>\n",
       "      <th>2</th>\n",
       "      <td>Austria</td>\n",
       "      <td>Europe</td>\n",
       "      <td>21</td>\n",
       "    </tr>\n",
       "    <tr>\n",
       "      <th>3</th>\n",
       "      <td>Azerbaijan</td>\n",
       "      <td>Asia</td>\n",
       "      <td>1</td>\n",
       "    </tr>\n",
       "    <tr>\n",
       "      <th>4</th>\n",
       "      <td>Bangladesh</td>\n",
       "      <td>Asia</td>\n",
       "      <td>1</td>\n",
       "    </tr>\n",
       "  </tbody>\n",
       "</table>\n",
       "</div>"
      ],
      "text/plain": [
       "         name Geographic Area  num\n",
       "0   Argentina   South America    5\n",
       "1   Australia         Oceania   13\n",
       "2     Austria          Europe   21\n",
       "3  Azerbaijan            Asia    1\n",
       "4  Bangladesh            Asia    1"
      ]
     },
     "execution_count": 120,
     "metadata": {},
     "output_type": "execute_result"
    }
   ],
   "source": [
    "NumPrizesCountry = NLsimple.groupby(['Country', 'Geographic Area']).size()\n",
    "NLcount = pd.DataFrame(NumPrizesCountry).reset_index(level = ['Country', 'Geographic Area'])\n",
    "NLcount.columns = ['name', 'Geographic Area', 'num']\n",
    "NLcount.head()"
   ]
  },
  {
   "cell_type": "code",
   "execution_count": 121,
   "metadata": {},
   "outputs": [
    {
     "data": {
      "text/plain": [
       "[{'name': 'Africa',\n",
       "  'children': [{'name': 'Kenya', 'num': 1},\n",
       "   {'name': 'Nigeria', 'num': 1},\n",
       "   {'name': 'South Africa', 'num': 11}]},\n",
       " {'name': 'Asia',\n",
       "  'children': [{'name': 'Azerbaijan', 'num': 1},\n",
       "   {'name': 'Bangladesh', 'num': 1},\n",
       "   {'name': 'China', 'num': 8},\n",
       "   {'name': 'East Timor', 'num': 2},\n",
       "   {'name': 'Hong Kong', 'num': 1},\n",
       "   {'name': 'India', 'num': 8},\n",
       "   {'name': 'Japan', 'num': 22},\n",
       "   {'name': 'Korea, South', 'num': 1},\n",
       "   {'name': 'Myanmar (Burma)', 'num': 1},\n",
       "   {'name': 'Pakistan', 'num': 2},\n",
       "   {'name': 'Taiwan', 'num': 1},\n",
       "   {'name': 'Vietnam', 'num': 1}]},\n",
       " {'name': 'Europe',\n",
       "  'children': [{'name': 'Austria', 'num': 21},\n",
       "   {'name': 'Belarus', 'num': 4},\n",
       "   {'name': 'Belgium', 'num': 11},\n",
       "   {'name': 'Bosnia and Herzegovina', 'num': 2},\n",
       "   {'name': 'Bulgaria', 'num': 1},\n",
       "   {'name': 'Croatia', 'num': 1},\n",
       "   {'name': 'Cyprus', 'num': 1},\n",
       "   {'name': 'Czech Republic', 'num': 5},\n",
       "   {'name': 'Denmark', 'num': 13},\n",
       "   {'name': 'Faroe Islands', 'num': 1},\n",
       "   {'name': 'Finland', 'num': 4},\n",
       "   {'name': 'France', 'num': 67},\n",
       "   {'name': 'Germany', 'num': 102},\n",
       "   {'name': 'Ghana', 'num': 1},\n",
       "   {'name': 'Greece', 'num': 2},\n",
       "   {'name': 'Hungary', 'num': 12},\n",
       "   {'name': 'Iceland', 'num': 1},\n",
       "   {'name': 'Ireland', 'num': 10},\n",
       "   {'name': 'Italy', 'num': 20},\n",
       "   {'name': 'Latvia', 'num': 1},\n",
       "   {'name': 'Liberia', 'num': 2},\n",
       "   {'name': 'Lithuania', 'num': 4},\n",
       "   {'name': 'Luxembourg', 'num': 2},\n",
       "   {'name': 'Netherlands', 'num': 19},\n",
       "   {'name': 'Norway', 'num': 13},\n",
       "   {'name': 'Poland', 'num': 16},\n",
       "   {'name': 'Portugal', 'num': 4},\n",
       "   {'name': 'Republic of Macedonia', 'num': 1},\n",
       "   {'name': 'Romania', 'num': 4},\n",
       "   {'name': 'Russia', 'num': 28},\n",
       "   {'name': 'Serbia', 'num': 2},\n",
       "   {'name': 'Slovenia', 'num': 1},\n",
       "   {'name': 'Spain', 'num': 7},\n",
       "   {'name': 'Sweden', 'num': 30},\n",
       "   {'name': 'Switzerland', 'num': 26},\n",
       "   {'name': 'Ukraine', 'num': 5},\n",
       "   {'name': 'United Kingdom', 'num': 115}]},\n",
       " {'name': 'Middle East',\n",
       "  'children': [{'name': 'Egypt', 'num': 4},\n",
       "   {'name': 'Iran', 'num': 1},\n",
       "   {'name': 'Israel', 'num': 12},\n",
       "   {'name': 'Palestine', 'num': 1},\n",
       "   {'name': 'Turkey', 'num': 1},\n",
       "   {'name': 'Yemen', 'num': 1}]},\n",
       " {'name': 'North America',\n",
       "  'children': [{'name': 'Canada', 'num': 23},\n",
       "   {'name': 'Mexico', 'num': 3},\n",
       "   {'name': 'United States', 'num': 353}]},\n",
       " {'name': 'Oceania',\n",
       "  'children': [{'name': 'Australia', 'num': 13},\n",
       "   {'name': 'New Zealand', 'num': 3}]},\n",
       " {'name': 'South America',\n",
       "  'children': [{'name': 'Argentina', 'num': 5},\n",
       "   {'name': 'Chile', 'num': 2},\n",
       "   {'name': 'Colombia', 'num': 1},\n",
       "   {'name': 'Costa Rica', 'num': 1},\n",
       "   {'name': 'Guatemala', 'num': 2},\n",
       "   {'name': 'Peru', 'num': 1},\n",
       "   {'name': 'Saint Lucia', 'num': 2},\n",
       "   {'name': 'Trinidad and Tobago', 'num': 1},\n",
       "   {'name': 'Venezuela', 'num': 1}]}]"
      ]
     },
     "execution_count": 121,
     "metadata": {},
     "output_type": "execute_result"
    }
   ],
   "source": [
    "continents = NLcount.groupby('Geographic Area').max().index\n",
    "\n",
    "hierData = []\n",
    "\n",
    "for cont in continents:\n",
    "    children = NLcount[NLcount['Geographic Area'] == cont][['name', 'num']].to_dict(orient='records')\n",
    "    d1 = {'name': cont, 'children': children}\n",
    "    hierData.append(d1)"
   ]
  },
  {
   "cell_type": "code",
   "execution_count": 123,
   "metadata": {},
   "outputs": [],
   "source": [
    "with open('hierData.json', 'w') as f:\n",
    "    json.dump(hierData, f)"
   ]
  }
 ],
 "metadata": {
  "kernelspec": {
   "display_name": "Python 3",
   "language": "python",
   "name": "python3"
  },
  "language_info": {
   "codemirror_mode": {
    "name": "ipython",
    "version": 3
   },
   "file_extension": ".py",
   "mimetype": "text/x-python",
   "name": "python",
   "nbconvert_exporter": "python",
   "pygments_lexer": "ipython3",
   "version": "3.7.3"
  }
 },
 "nbformat": 4,
 "nbformat_minor": 2
}
